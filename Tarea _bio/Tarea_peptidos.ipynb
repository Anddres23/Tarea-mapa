{
 "cells": [
  {
   "cell_type": "code",
   "execution_count": 66,
   "id": "9f5dbed2",
   "metadata": {},
   "outputs": [],
   "source": [
    "# Tarea de Mapa"
   ]
  },
  {
   "cell_type": "code",
   "execution_count": null,
   "id": "8d3ea063",
   "metadata": {},
   "outputs": [],
   "source": [
    "Nombre: Arias Andres"
   ]
  },
  {
   "cell_type": "code",
   "execution_count": null,
   "id": "b0642a8e",
   "metadata": {},
   "outputs": [],
   "source": [
    "import re\n",
    "import csv\n",
    "import pandas as pd\n",
    "import matplotlib.pyplot as pltb\n",
    "import itertools"
   ]
  },
  {
   "cell_type": "code",
   "execution_count": 41,
   "id": "ee31d185",
   "metadata": {},
   "outputs": [],
   "source": [
    "import re\n",
    "with open('data/pubmed_frogpeptid_set.txt',\"r\", encoding='utf-8-sig') as f:\n",
    "    info_au = f.read()\n",
    "    info_au = re.sub(r'\\n\\s{6}', ' ', info_au)"
   ]
  },
  {
   "cell_type": "code",
   "execution_count": 42,
   "id": "5dadccca",
   "metadata": {},
   "outputs": [],
   "source": [
    " dat = re.findall(r\"\\,\\s[A-Z]+[A-z]{2,11}\\.\", info_au) "
   ]
  },
  {
   "cell_type": "code",
   "execution_count": 44,
   "id": "8c5af810",
   "metadata": {},
   "outputs": [
    {
     "name": "stdout",
     "output_type": "stream",
     "text": [
      "[', ANOVA].', ', Agnatha.', ', Alberta.', ', Althanstr.', ', Argentina.', ', Arizona.', ', Australia.', ', Austria.', ', Basel.', ', Belgique.', ', Belgium.', ', Biochim.', ', Bldg.', ', Blvd.', ', Bombina.', ', Brasil.', ', Brazil.', ', Brefeldin.', ', Bulgaria.', ', Bvd.', ', CNQX.', ', CaM.', ', Calif.', ', California.', ', Cambridge.', ', Cameroon.', ', Canada.', ', Chile.', ', China.', ', Chordin.', ', Col.', ', Colombia.', ', Connecticut.', ', Croatia.', ', Cuba.', ', Cyprus.', ', Denmark.', ', Dept.', ', Depto.', ', Dev.', ', ENaC.', ', Ecuador.', ', Egypt.', ', England.', ', Estonia.', ', FHHINTYEDNGFLIV.', ', FRRFamide.', ', Fac.', ', Fiji.', ', Finland.', ', Fla.', ', Florida.', ', France.', ', Garbenstr.', ', Georgia.', ', Germany.', ', Gmelinstr.', ', Gnas.', ', Greece.', ', Hebei.', ', Hubei.', ', Hungary.', ', INC.', ', IRCPKDKIYKFCGSPCPPSCKDLTPNCIAVCKKGCFCRDGTVDNNHGKCVKKENC.', ', Ihnestr.', ', Illinois.', ', Inc.', ', India.', ', Indonesia.', ', Invest.', ', Iran.', ', Ireland.', ', Israel.', ', Italia.', ', Italy.', ', Japan.', ', Jordan.', ', Kazakhstan.', ', Kentucky.', ', Kenya.', ', Korea.', ', Lebanon.', ', Lithuania.', ', Litoria.', ', Ltd.', ', Macao.', ', Macau.', ', Madagascar.', ', Malaysia.', ', Malta.', ', Martinistr.', ', Maryland.', ', Mexico.', ', Meyerhofstr.', ', Minnesota.', ', Monaco.', ', Mongolia.', ', Mor.', ', Moscow.', ', Musashi.', ', NCC.', ', NTCP.', ', Nab.', ', Netherlands.', ', Nodals.', ', Norway.', ', OPR.', ', Ohio.', ', Oman.', ', Oregon.', ', PKI.', ', PRC.', ', PXXP.', ', Pakistan.', ', Panama.', ', Paris.', ', Pennsylvania.', ', Peru.', ', PfCRT.', ', Philippines.', ', Poland.', ', Polypedates.', ', Portugal.', ', Qatar.', ', Qro.', ', ROC.', ', ROMK.', ', Rana.', ', Ranaboylii.', ', Ras.', ', Romania.', ', Russia.', ', Rwanda.', ', Serbia.', ', Sez.', ', Singapore.', ', Slovakia.', ', Slovenia.', ', Spain.', ', Sweden.', ', Switzerland.', ', TRESK.', ', Taiwan.', ', Tau.', ', Tex.', ', Texas.', ', Thailand.', ', Tlrs.', ', Tunisia.', ', Tunisie.', ', Turkey.', ', UAE.', ', USA.', ', UVS.', ', Ukraine.', ', Unesp.', ', Univ.', ', Uruguay.', ', Utah.', ', Venezuela.', ', Vic.', ', Vietnam.', ', Virginia.', ', Waldstr.', ', Weinheim.', ', Wisconsin.', ', XEEL.', ', Xenopus.', ', Xian.', ', Xinxiang.', ', Yonago.', ', Yunnan.', ', ZIFCAT.', ',\\xa0Brazil.', ',\\xa0Germany.']\n"
     ]
    }
   ],
   "source": [
    "unique_text =list(set(dat))\n",
    "unique_text.sort()\n",
    "paises = unique_text\n",
    "print(paises)"
   ]
  },
  {
   "cell_type": "code",
   "execution_count": 63,
   "id": "7eff49e9",
   "metadata": {},
   "outputs": [
    {
     "name": "stdout",
     "output_type": "stream",
     "text": [
      "\n",
      "Paises:  [', ANOVA].', ', Agnatha.', ', Alberta.', ', Althanstr.', ', Argentina.', ', Arizona.', ', Australia.', ', Austria.', ', Basel.', ', Belgique.', ', Belgium.', ', Biochim.', ', Bldg.', ', Blvd.', ', Bombina.', ', Brasil.', ', Brazil.', ', Brefeldin.', ', Bulgaria.', ', Bvd.', ', CNQX.', ', CaM.', ', Calif.', ', California.', ', Cambridge.', ', Cameroon.', ', Canada.', ', Chile.', ', China.', ', Chordin.', ', Colombia.', ', Connecticut.', ', Croatia.', ', Cuba.', ', Cyprus.', ', Denmark.', ', Dept.', ', Depto.', ', Dev.', ', ENaC.', ', Ecuador.', ', Egypt.', ', England.', ', Estonia.', ', FHHINTYEDNGFLIV.', ', FRRFamide.', ', Fac.', ', Fiji.', ', Finland.', ', Fla.', ', Florida.', ', France.', ', Garbenstr.', ', Georgia.', ', Germany.', ', Gmelinstr.', ', Gnas.', ', Greece.', ', Hebei.', ', Hubei.', ', Hungary.', ', INC.', ', IRCPKDKIYKFCGSPCPPSCKDLTPNCIAVCKKGCFCRDGTVDNNHGKCVKKENC.', ', Ihnestr.', ', Illinois.', ', Inc.', ', India.', ', Indonesia.', ', Invest.', ', Iran.', ', Ireland.', ', Israel.', ', Italia.', ', Italy.', ', Japan.', ', Jordan.', ', Kazakhstan.', ', Kentucky.', ', Kenya.', ', Korea.', ', Lebanon.', ', Lithuania.', ', Litoria.', ', Ltd.', ', Macao.', ', Macau.', ', Madagascar.', ', Malaysia.', ', Malta.', ', Martinistr.', ', Maryland.', ', Mexico.', ', Meyerhofstr.', ', Minnesota.', ', Monaco.', ', Mongolia.', ', Mor.', ', Moscow.', ', Musashi.', ', NCC.', ', NTCP.', ', Nab.', ', Netherlands.', ', Nodals.', ', Norway.', ', OPR.', ', Ohio.', ', Oman.', ', Oregon.', ', PKI.', ', PRC.', ', PXXP.', ', Pakistan.', ', Panama.', ', Paris.', ', Pennsylvania.', ', Peru.', ', PfCRT.', ', Philippines.', ', Poland.', ', Polypedates.', ', Portugal.', ', Qatar.', ', Qro.', ', ROC.', ', ROMK.', ', Rana.', ', Ranaboylii.', ', Ras.', ', Romania.', ', Russia.', ', Rwanda.', ', Serbia.', ', Sez.', ', Singapore.', ', Slovakia.', ', Slovenia.', ', Spain.', ', Sweden.', ', Switzerland.', ', TRESK.', ', Taiwan.', ', Tau.', ', Tex.', ', Texas.', ', Thailand.', ', Tlrs.', ', Tunisia.', ', Tunisie.', ', Turkey.', ', UAE.', ', USA.', ', UVS.', ', Ukraine.', ', Unesp.', ', Univ.', ', Uruguay.', ', Utah.', ', Venezuela.', ', Vic.', ', Vietnam.', ', Virginia.', ', Waldstr.', ', Weinheim.', ', Wisconsin.', ', XEEL.', ', Xenopus.', ', Xian.', ', Xinxiang.', ', Yonago.', ', Yunnan.', ', ZIFCAT.', ',\\xa0Brazil.', ',\\xa0Germany.']\n"
     ]
    }
   ],
   "source": [
    "    print() \n",
    "    print('Paises: ', b)"
   ]
  },
  {
   "cell_type": "code",
   "execution_count": 46,
   "id": "43f4ddae",
   "metadata": {},
   "outputs": [
    {
     "name": "stdout",
     "output_type": "stream",
     "text": [
      "\n",
      "correccion:  ['ANOVA]', 'Agnatha', 'Alberta', 'Althanstr', 'Argentina', 'Arizona', 'Australia', 'Austria', 'Basel', 'Belgique', 'Belgium', 'Biochim', 'Bldg', 'Blvd', 'Bombina', 'Brasil', 'Brazil', 'Brefeldin', 'Bulgaria', 'Bvd', 'CNQX', 'CaM', 'Calif', 'California', 'Cambridge', 'Cameroon', 'Canada', 'Chile', 'China', 'Chordin', 'Colombia', 'Connecticut', 'Croatia', 'Cuba', 'Cyprus', 'Denmark', 'Dept', 'Depto', 'Dev', 'ENaC', 'Ecuador', 'Egypt', 'England', 'Estonia', 'FHHINTYEDNGFLIV', 'FRRFamide', 'Fac', 'Fiji', 'Finland', 'Fla', 'Florida', 'France', 'Garbenstr', 'Georgia', 'Germany', 'Gmelinstr', 'Gnas', 'Greece', 'Hebei', 'Hubei', 'Hungary', 'INC', 'IRCPKDKIYKFCGSPCPPSCKDLTPNCIAVCKKGCFCRDGTVDNNHGKCVKKENC', 'Ihnestr', 'Illinois', 'Inc', 'India', 'Indonesia', 'Invest', 'Iran', 'Ireland', 'Israel', 'Italia', 'Italy', 'Japan', 'Jordan', 'Kazakhstan', 'Kentucky', 'Kenya', 'Korea', 'Lebanon', 'Lithuania', 'Litoria', 'Ltd', 'Macao', 'Macau', 'Madagascar', 'Malaysia', 'Malta', 'Martinistr', 'Maryland', 'Mexico', 'Meyerhofstr', 'Minnesota', 'Monaco', 'Mongolia', 'Mor', 'Moscow', 'Musashi', 'NCC', 'NTCP', 'Nab', 'Netherlands', 'Nodals', 'Norway', 'OPR', 'Ohio', 'Oman', 'Oregon', 'PKI', 'PRC', 'PXXP', 'Pakistan', 'Panama', 'Paris', 'Pennsylvania', 'Peru', 'PfCRT', 'Philippines', 'Poland', 'Polypedates', 'Portugal', 'Qatar', 'Qro', 'ROC', 'ROMK', 'Rana', 'Ranaboylii', 'Ras', 'Romania', 'Russia', 'Rwanda', 'Serbia', 'Sez', 'Singapore', 'Slovakia', 'Slovenia', 'Spain', 'Sweden', 'Switzerland', 'TRESK', 'Taiwan', 'Tau', 'Tex', 'Texas', 'Thailand', 'Tlrs', 'Tunisia', 'Tunisie', 'Turkey', 'UAE', 'USA', 'UVS', 'Ukraine', 'Unesp', 'Univ', 'Uruguay', 'Utah', 'Venezuela', 'Vic', 'Vietnam', 'Virginia', 'Waldstr', 'Weinheim', 'Wisconsin', 'XEEL', 'Xenopus', 'Xian', 'Xinxiang', 'Yonago', 'Yunnan', 'ZIFCAT', ',\\xa0Brazil', ',\\xa0Germany']\n"
     ]
    }
   ],
   "source": [
    "    c = \"\".join(b)\n",
    "    d = c.split(\", \")\n",
    "    e = \"\".join(d)\n",
    "    f = e.split(\".\")\n",
    "    f.remove(\"\")\n",
    "    g = f\n",
    "    print()\n",
    "    print('correccion: ', g)"
   ]
  },
  {
   "cell_type": "code",
   "execution_count": 47,
   "id": "19f90fd2",
   "metadata": {},
   "outputs": [
    {
     "data": {
      "text/html": [
       "<div>\n",
       "<style scoped>\n",
       "    .dataframe tbody tr th:only-of-type {\n",
       "        vertical-align: middle;\n",
       "    }\n",
       "\n",
       "    .dataframe tbody tr th {\n",
       "        vertical-align: top;\n",
       "    }\n",
       "\n",
       "    .dataframe thead th {\n",
       "        text-align: right;\n",
       "    }\n",
       "</style>\n",
       "<table border=\"1\" class=\"dataframe\">\n",
       "  <thead>\n",
       "    <tr style=\"text-align: right;\">\n",
       "      <th></th>\n",
       "      <th>country</th>\n",
       "      <th>latitude</th>\n",
       "      <th>longitude</th>\n",
       "      <th>name</th>\n",
       "    </tr>\n",
       "  </thead>\n",
       "  <tbody>\n",
       "    <tr>\n",
       "      <th>0</th>\n",
       "      <td>AD</td>\n",
       "      <td>42.546245</td>\n",
       "      <td>1.601554</td>\n",
       "      <td>Andorra</td>\n",
       "    </tr>\n",
       "    <tr>\n",
       "      <th>1</th>\n",
       "      <td>AE</td>\n",
       "      <td>23.424076</td>\n",
       "      <td>53.847818</td>\n",
       "      <td>United Arab Emirates</td>\n",
       "    </tr>\n",
       "    <tr>\n",
       "      <th>2</th>\n",
       "      <td>AF</td>\n",
       "      <td>33.939110</td>\n",
       "      <td>67.709953</td>\n",
       "      <td>Afghanistan</td>\n",
       "    </tr>\n",
       "    <tr>\n",
       "      <th>3</th>\n",
       "      <td>AG</td>\n",
       "      <td>17.060816</td>\n",
       "      <td>-61.796428</td>\n",
       "      <td>Antigua and Barbuda</td>\n",
       "    </tr>\n",
       "    <tr>\n",
       "      <th>4</th>\n",
       "      <td>AI</td>\n",
       "      <td>18.220554</td>\n",
       "      <td>-63.068615</td>\n",
       "      <td>Anguilla</td>\n",
       "    </tr>\n",
       "    <tr>\n",
       "      <th>5</th>\n",
       "      <td>AL</td>\n",
       "      <td>41.153332</td>\n",
       "      <td>20.168331</td>\n",
       "      <td>Albania</td>\n",
       "    </tr>\n",
       "    <tr>\n",
       "      <th>6</th>\n",
       "      <td>AM</td>\n",
       "      <td>40.069099</td>\n",
       "      <td>45.038189</td>\n",
       "      <td>Armenia</td>\n",
       "    </tr>\n",
       "    <tr>\n",
       "      <th>7</th>\n",
       "      <td>AN</td>\n",
       "      <td>12.226079</td>\n",
       "      <td>-69.060087</td>\n",
       "      <td>Netherlands Antilles</td>\n",
       "    </tr>\n",
       "    <tr>\n",
       "      <th>8</th>\n",
       "      <td>AO</td>\n",
       "      <td>-11.202692</td>\n",
       "      <td>17.873887</td>\n",
       "      <td>Angola</td>\n",
       "    </tr>\n",
       "    <tr>\n",
       "      <th>9</th>\n",
       "      <td>AQ</td>\n",
       "      <td>-75.250973</td>\n",
       "      <td>-0.071389</td>\n",
       "      <td>Antarctica</td>\n",
       "    </tr>\n",
       "  </tbody>\n",
       "</table>\n",
       "</div>"
      ],
      "text/plain": [
       "  country   latitude  longitude                  name\n",
       "0      AD  42.546245   1.601554               Andorra\n",
       "1      AE  23.424076  53.847818  United Arab Emirates\n",
       "2      AF  33.939110  67.709953           Afghanistan\n",
       "3      AG  17.060816 -61.796428   Antigua and Barbuda\n",
       "4      AI  18.220554 -63.068615              Anguilla\n",
       "5      AL  41.153332  20.168331               Albania\n",
       "6      AM  40.069099  45.038189               Armenia\n",
       "7      AN  12.226079 -69.060087  Netherlands Antilles\n",
       "8      AO -11.202692  17.873887                Angola\n",
       "9      AQ -75.250973  -0.071389            Antarctica"
      ]
     },
     "execution_count": 47,
     "metadata": {},
     "output_type": "execute_result"
    }
   ],
   "source": [
    "data = pd.read_csv('data/Paises_ubicacion.csv', engine='python', skipfooter=3)\n",
    "data.head(10)"
   ]
  },
  {
   "cell_type": "code",
   "execution_count": 48,
   "id": "6b1cced5",
   "metadata": {},
   "outputs": [
    {
     "data": {
      "text/html": [
       "<div>\n",
       "<style scoped>\n",
       "    .dataframe tbody tr th:only-of-type {\n",
       "        vertical-align: middle;\n",
       "    }\n",
       "\n",
       "    .dataframe tbody tr th {\n",
       "        vertical-align: top;\n",
       "    }\n",
       "\n",
       "    .dataframe thead th {\n",
       "        text-align: right;\n",
       "    }\n",
       "</style>\n",
       "<table border=\"1\" class=\"dataframe\">\n",
       "  <thead>\n",
       "    <tr style=\"text-align: right;\">\n",
       "      <th></th>\n",
       "      <th>country</th>\n",
       "      <th>latitude</th>\n",
       "      <th>longitude</th>\n",
       "      <th>name</th>\n",
       "    </tr>\n",
       "  </thead>\n",
       "  <tbody>\n",
       "    <tr>\n",
       "      <th>10</th>\n",
       "      <td>AR</td>\n",
       "      <td>-38.416097</td>\n",
       "      <td>-63.616672</td>\n",
       "      <td>Argentina</td>\n",
       "    </tr>\n",
       "    <tr>\n",
       "      <th>12</th>\n",
       "      <td>AT</td>\n",
       "      <td>47.516231</td>\n",
       "      <td>14.550072</td>\n",
       "      <td>Austria</td>\n",
       "    </tr>\n",
       "    <tr>\n",
       "      <th>13</th>\n",
       "      <td>AU</td>\n",
       "      <td>-25.274398</td>\n",
       "      <td>133.775136</td>\n",
       "      <td>Australia</td>\n",
       "    </tr>\n",
       "    <tr>\n",
       "      <th>19</th>\n",
       "      <td>BE</td>\n",
       "      <td>50.503887</td>\n",
       "      <td>4.469936</td>\n",
       "      <td>Belgium</td>\n",
       "    </tr>\n",
       "    <tr>\n",
       "      <th>21</th>\n",
       "      <td>BG</td>\n",
       "      <td>42.733883</td>\n",
       "      <td>25.485830</td>\n",
       "      <td>Bulgaria</td>\n",
       "    </tr>\n",
       "    <tr>\n",
       "      <th>28</th>\n",
       "      <td>BR</td>\n",
       "      <td>-14.235004</td>\n",
       "      <td>-51.925280</td>\n",
       "      <td>Brazil</td>\n",
       "    </tr>\n",
       "    <tr>\n",
       "      <th>35</th>\n",
       "      <td>CA</td>\n",
       "      <td>56.130366</td>\n",
       "      <td>-106.346771</td>\n",
       "      <td>Canada</td>\n",
       "    </tr>\n",
       "    <tr>\n",
       "      <th>40</th>\n",
       "      <td>CH</td>\n",
       "      <td>46.818188</td>\n",
       "      <td>8.227512</td>\n",
       "      <td>Switzerland</td>\n",
       "    </tr>\n",
       "    <tr>\n",
       "      <th>43</th>\n",
       "      <td>CL</td>\n",
       "      <td>-35.675147</td>\n",
       "      <td>-71.542969</td>\n",
       "      <td>Chile</td>\n",
       "    </tr>\n",
       "    <tr>\n",
       "      <th>44</th>\n",
       "      <td>CM</td>\n",
       "      <td>7.369722</td>\n",
       "      <td>12.354722</td>\n",
       "      <td>Cameroon</td>\n",
       "    </tr>\n",
       "  </tbody>\n",
       "</table>\n",
       "</div>"
      ],
      "text/plain": [
       "   country   latitude   longitude         name\n",
       "10      AR -38.416097  -63.616672    Argentina\n",
       "12      AT  47.516231   14.550072      Austria\n",
       "13      AU -25.274398  133.775136    Australia\n",
       "19      BE  50.503887    4.469936      Belgium\n",
       "21      BG  42.733883   25.485830     Bulgaria\n",
       "28      BR -14.235004  -51.925280       Brazil\n",
       "35      CA  56.130366 -106.346771       Canada\n",
       "40      CH  46.818188    8.227512  Switzerland\n",
       "43      CL -35.675147  -71.542969        Chile\n",
       "44      CM   7.369722   12.354722     Cameroon"
      ]
     },
     "execution_count": 48,
     "metadata": {},
     "output_type": "execute_result"
    }
   ],
   "source": [
    "name = data[data.name.isin(g)]\n",
    "name.head(10)"
   ]
  },
  {
   "cell_type": "code",
   "execution_count": 49,
   "id": "4dabc3eb",
   "metadata": {},
   "outputs": [
    {
     "data": {
      "text/html": [
       "<div>\n",
       "<style scoped>\n",
       "    .dataframe tbody tr th:only-of-type {\n",
       "        vertical-align: middle;\n",
       "    }\n",
       "\n",
       "    .dataframe tbody tr th {\n",
       "        vertical-align: top;\n",
       "    }\n",
       "\n",
       "    .dataframe thead th {\n",
       "        text-align: right;\n",
       "    }\n",
       "</style>\n",
       "<table border=\"1\" class=\"dataframe\">\n",
       "  <thead>\n",
       "    <tr style=\"text-align: right;\">\n",
       "      <th></th>\n",
       "      <th>country</th>\n",
       "      <th>latitude</th>\n",
       "      <th>longitude</th>\n",
       "      <th>name</th>\n",
       "    </tr>\n",
       "  </thead>\n",
       "  <tbody>\n",
       "    <tr>\n",
       "      <th>10</th>\n",
       "      <td>AR</td>\n",
       "      <td>-38.416097</td>\n",
       "      <td>-63.616672</td>\n",
       "      <td>Argentina</td>\n",
       "    </tr>\n",
       "    <tr>\n",
       "      <th>13</th>\n",
       "      <td>AU</td>\n",
       "      <td>-25.274398</td>\n",
       "      <td>133.775136</td>\n",
       "      <td>Australia</td>\n",
       "    </tr>\n",
       "    <tr>\n",
       "      <th>12</th>\n",
       "      <td>AT</td>\n",
       "      <td>47.516231</td>\n",
       "      <td>14.550072</td>\n",
       "      <td>Austria</td>\n",
       "    </tr>\n",
       "    <tr>\n",
       "      <th>19</th>\n",
       "      <td>BE</td>\n",
       "      <td>50.503887</td>\n",
       "      <td>4.469936</td>\n",
       "      <td>Belgium</td>\n",
       "    </tr>\n",
       "    <tr>\n",
       "      <th>28</th>\n",
       "      <td>BR</td>\n",
       "      <td>-14.235004</td>\n",
       "      <td>-51.925280</td>\n",
       "      <td>Brazil</td>\n",
       "    </tr>\n",
       "    <tr>\n",
       "      <th>21</th>\n",
       "      <td>BG</td>\n",
       "      <td>42.733883</td>\n",
       "      <td>25.485830</td>\n",
       "      <td>Bulgaria</td>\n",
       "    </tr>\n",
       "    <tr>\n",
       "      <th>44</th>\n",
       "      <td>CM</td>\n",
       "      <td>7.369722</td>\n",
       "      <td>12.354722</td>\n",
       "      <td>Cameroon</td>\n",
       "    </tr>\n",
       "    <tr>\n",
       "      <th>35</th>\n",
       "      <td>CA</td>\n",
       "      <td>56.130366</td>\n",
       "      <td>-106.346771</td>\n",
       "      <td>Canada</td>\n",
       "    </tr>\n",
       "    <tr>\n",
       "      <th>43</th>\n",
       "      <td>CL</td>\n",
       "      <td>-35.675147</td>\n",
       "      <td>-71.542969</td>\n",
       "      <td>Chile</td>\n",
       "    </tr>\n",
       "    <tr>\n",
       "      <th>45</th>\n",
       "      <td>CN</td>\n",
       "      <td>35.861660</td>\n",
       "      <td>104.195397</td>\n",
       "      <td>China</td>\n",
       "    </tr>\n",
       "  </tbody>\n",
       "</table>\n",
       "</div>"
      ],
      "text/plain": [
       "   country   latitude   longitude       name\n",
       "10      AR -38.416097  -63.616672  Argentina\n",
       "13      AU -25.274398  133.775136  Australia\n",
       "12      AT  47.516231   14.550072    Austria\n",
       "19      BE  50.503887    4.469936    Belgium\n",
       "28      BR -14.235004  -51.925280     Brazil\n",
       "21      BG  42.733883   25.485830   Bulgaria\n",
       "44      CM   7.369722   12.354722   Cameroon\n",
       "35      CA  56.130366 -106.346771     Canada\n",
       "43      CL -35.675147  -71.542969      Chile\n",
       "45      CN  35.861660  104.195397      China"
      ]
     },
     "execution_count": 49,
     "metadata": {},
     "output_type": "execute_result"
    }
   ],
   "source": [
    "paises = data[data.country.isin(g)]\n",
    "all_data =pd.concat([name,paises]).drop_duplicates().sort_values('name')\n",
    "all_data.head(10)"
   ]
  },
  {
   "cell_type": "code",
   "execution_count": 67,
   "id": "ebd1179c",
   "metadata": {},
   "outputs": [
    {
     "data": {
      "image/png": "[encoded data removed]",
      "text/plain": [
       "<Figure size 1296x864 with 2 Axes>"
      ]
     },
     "metadata": {
      "needs_background": "light"
     },
     "output_type": "display_data"
    }
   ],
   "source": [
    "pltb.scatter(all_data.longitude, all_data.latitude, s=50, c=all_data.latitude)\n",
    "pltb.colorbar()\n",
    "ard = dict(arrowstyle=\"->\")\n",
    "\n",
    "pltb.annotate('Ecuador', xy = (-78.1834, -1.83), \n",
    "               xytext = (-67.1834, -3.99), arrowprops= ard)\n",
    "\n",
    "pltb.annotate('India', xy = (78.962, 20.593), \n",
    "               xytext = (78.96, 25.3), arrowprops = ard)\n",
    "\n",
    "pltb.annotate('Brasil', xy = (-51.92528, -14.235004), \n",
    "               xytext = (-51.92528, -11), arrowprops= ard)\n",
    "\n",
    "pltb.annotate('Colombia', xy = (-74.297, 4.5708), \n",
    "               xytext = (-74.297, 10), arrowprops= ard)\n",
    "\n",
    "pltb.annotate('Noruega', xy = (8.468946, 60.472024), \n",
    "               xytext = (8.468946, 63), arrowprops= ard)\n",
    "\n",
    "pltb.annotate('China', xy = (104.195397, 35.86166), \n",
    "               xytext = (104.195397, 39), arrowprops= ard)\n",
    "\n",
    "params = pltb.gcf()\n",
    "plSize = params.get_size_inches()\n",
    "params.set_size_inches( (plSize[0] * 3, plSize[1] * 3) )\n",
    "\n",
    "pltb.savefig(\"Map of Science.png\")\n",
    "\n"
   ]
  },
  {
   "cell_type": "code",
   "execution_count": null,
   "id": "d65c080b",
   "metadata": {},
   "outputs": [],
   "source": []
  },
  {
   "cell_type": "code",
   "execution_count": null,
   "id": "2f70da55",
   "metadata": {},
   "outputs": [],
   "source": []
  },
  {
   "cell_type": "code",
   "execution_count": null,
   "id": "0f9a5e93",
   "metadata": {},
   "outputs": [],
   "source": []
  }
 ],
 "metadata": {
  "kernelspec": {
   "display_name": "Python 3",
   "language": "python",
   "name": "python3"
  },
  "language_info": {
   "codemirror_mode": {
    "name": "ipython",
    "version": 3
   },
   "file_extension": ".py",
   "mimetype": "text/x-python",
   "name": "python",
   "nbconvert_exporter": "python",
   "pygments_lexer": "ipython3",
   "version": "3.8.8"
  }
 },
 "nbformat": 4,
 "nbformat_minor": 5
}
